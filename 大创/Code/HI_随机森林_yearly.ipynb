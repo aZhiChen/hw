{
 "cells": [
  {
   "cell_type": "code",
   "execution_count": null,
   "metadata": {},
   "outputs": [],
   "source": [
    "##此代码画最佳的随机森林图"
   ]
  },
  {
   "cell_type": "code",
   "execution_count": 1,
   "metadata": {},
   "outputs": [
    {
     "data": {
      "text/plain": [
       "<Figure size 432x288 with 0 Axes>"
      ]
     },
     "metadata": {},
     "output_type": "display_data"
    }
   ],
   "source": [
    "import pandas as pd\n",
    "import numpy as np\n",
    "from itertools import combinations\n",
    "from sklearn import metrics\n",
    "from scipy.io import loadmat\n",
    "from sklearn.linear_model import LinearRegression\n",
    "import matplotlib.pyplot as plt\n",
    "import matplotlib\n",
    "import os\n",
    "import xlsxwriter\n",
    "from scipy import stats\n",
    "from datetime import datetime\n",
    "from sklearn.ensemble import RandomForestRegressor\n",
    "from sklearn.model_selection import train_test_split\n",
    "os.environ[\"CUDA_VISIBLE_DEVICES\"] = \"0\"\n",
    "plt.rcParams['font.sans-serif'] = ['SimHei']\n",
    "plt.rcParams['font.size'] = 15\n",
    "plt.rcParams['axes.unicode_minus'] = False\n",
    "plt.subplots_adjust(wspace=0, hspace=150)\n",
    "plt.tight_layout()\n",
    "\n",
    "running_num = 1000\n",
    "fig_rows = 1\n",
    "fig_cols = 1\n",
    "training_proportion_range = [0.7]\n",
    "testing_pro = 0.3\n",
    "data_num = 22\n",
    "test_num = int(data_num * testing_pro)\n",
    "cov = [0 for tt in range(data_num)]\n",
    "my_test_pred = [ [] for tt in range(data_num)]\n",
    "factors2 = ('chla','DIN','WS')\n",
    "factors1 = ('chla','DIN','WS','Current','temp')\n",
    "factors3 = ('chla','DIN','WS','DIN_SD','chla_SD')\n",
    "factors_all = ('chla', 'temp', 'DIN', 'density', 'chla_SD', 'std_temp_SD', 'DIN_SD', 'density_SD', 'WS', 'Current')\n",
    "factors_best = ('chla_SD', 'std_temp_SD', 'DIN_SD', 'density_SD', 'WS')"
   ]
  },
  {
   "cell_type": "code",
   "execution_count": 2,
   "metadata": {},
   "outputs": [],
   "source": [
    "#这里的real和pred都是np.array格式，默认传入的real和pred的size一样\n",
    "#算NSE\n",
    "def cal_NSE(real, pred, mean):\n",
    "    numerator=0\n",
    "    denominator=0\n",
    "    for it in range(len(real)):\n",
    "        numerator += (pred[it]-real[it]) ** 2\n",
    "        denominator += (real[it]-mean) ** 2\n",
    "    nse = 1 - numerator/denominator\n",
    "    return nse\n",
    "\n",
    "#算RMSE\n",
    "def cal_RMSE(real, pred):\n",
    "    n = len(pred)\n",
    "    numerator = 0\n",
    "    for it in range(len(pred)):\n",
    "        numerator += (pred[it] - real[it]) * (pred[it] - real[it])\n",
    "    RMSE = (numerator/n) ** 0.5\n",
    "    return RMSE\n",
    "\n",
    "#算Pcorr,mean是所有数据的mean还是test的mean\n",
    "def cal_Pcorr(real, pred, mean):\n",
    "    pred_mean = pred.mean(axis=0)\n",
    "    numerator=0\n",
    "    denominator=0\n",
    "    a = 0\n",
    "    b = 0\n",
    "    for it in range(len(pred)):\n",
    "        numerator += (pred[it]-pred_mean)*(real[it]-mean)\n",
    "        a += (pred[it]-pred_mean) ** 2\n",
    "        b += (real[it]-mean) ** 2\n",
    "    denominator = (a*b) ** 0.5\n",
    "    Pcorr = numerator / denominator\n",
    "    return Pcorr\n",
    "\n",
    "def cal_Cov(pred, real):\n",
    "    cov = 0\n",
    "    #print(len(pred))\n",
    "    for i in range(len(pred)):\n",
    "        cov += pow((pred[i] - real),2)\n",
    "    cov = cov / len(pred)\n",
    "    return cov"
   ]
  },
  {
   "cell_type": "code",
   "execution_count": 3,
   "metadata": {},
   "outputs": [],
   "source": [
    "#DataSet is the name of the DataSet\n",
    "#Data contains P_val, NSE and RMSE\n",
    "#workbook has been created in main function\n",
    "def write_excel(workbook,sheet_name,total,nse_test_array, nse_train_array):    \n",
    "    worksheet = workbook.add_worksheet(sheet_name) #create a sheet for DataSet\n",
    "    worksheet.write(1,0,'test_data')\n",
    "    worksheet.write(2,0,'train_data')\n",
    "    worksheet.write(0,1,'nse_mean')\n",
    "    worksheet.write(0,2,'nse_std')\n",
    "    worksheet.write(0,3,'nse_min')\n",
    "    worksheet.write(0,4,'nse_max')\n",
    "    worksheet.write(1,1,nse_test_array[0])\n",
    "    worksheet.write(1,2,nse_test_array[1])\n",
    "    worksheet.write(1,3,nse_test_array[2])\n",
    "    worksheet.write(1,4,nse_test_array[3])\n",
    "    worksheet.write(2,1,nse_train_array[0])\n",
    "    worksheet.write(2,2,nse_train_array[1])\n",
    "    worksheet.write(2,3,nse_train_array[2])\n",
    "    worksheet.write(2,4,nse_train_array[3])\n",
    "    worksheet.write(4,0,'序号')\n",
    "    worksheet.set_column('A:A',10)#设置第2列宽度为20像素\n",
    "    #worksheet.write(3,1,'模型')\n",
    "    worksheet.write(4,1,'Pcorr')\n",
    "    worksheet.write(4,2,'NSE')\n",
    "    worksheet.write(4,3,'RMSE')\n",
    "    worksheet.write(4,4,'pvalue')\n",
    "    for r in range(int(len(total))):\n",
    "        worksheet.write(r+5,0,r)\n",
    "        #worksheet.write(r+1,1,total[r]['factors_str'])\n",
    "        worksheet.write(r+5,1,total[r]['pcorr'])\n",
    "        worksheet.write(r+5,2,total[r]['nse'])\n",
    "        worksheet.write(r+5,3,total[r]['rmse'])\n",
    "        worksheet.write(r+5,4,total[r]['pvalue'])"
   ]
  },
  {
   "cell_type": "code",
   "execution_count": 4,
   "metadata": {},
   "outputs": [],
   "source": [
    "#DataSet is the name of the DataSet\n",
    "#Data contains P_val, NSE and RMSE\n",
    "#workbook has been created in main function\n",
    "def write_excel2(workbook,sheet_name,total,nse_test_array, nse_train_array,cov):    \n",
    "    worksheet = workbook.add_worksheet(sheet_name) #create a sheet for DataSet\n",
    "    worksheet.write(1,0,'test_data')\n",
    "    worksheet.write(2,0,'train_data')\n",
    "    worksheet.write(0,1,'nse_mean')\n",
    "    worksheet.write(0,2,'nse_std')\n",
    "    worksheet.write(0,3,'nse_min')\n",
    "    worksheet.write(0,4,'nse_max')\n",
    "    worksheet.write(1,1,nse_test_array[0])\n",
    "    worksheet.write(1,2,nse_test_array[1])\n",
    "    worksheet.write(1,3,nse_test_array[2])\n",
    "    worksheet.write(1,4,nse_test_array[3])\n",
    "    worksheet.write(2,1,nse_train_array[0])\n",
    "    worksheet.write(2,2,nse_train_array[1])\n",
    "    worksheet.write(2,3,nse_train_array[2])\n",
    "    worksheet.write(2,4,nse_train_array[3])\n",
    "    worksheet.write(0,6,'年份')\n",
    "    worksheet.write(0,7,'Cov')\n",
    "    for i in range(len(cov)):\n",
    "        worksheet.write(i+1,6,cov['year_index'][i])\n",
    "        worksheet.write(i+1,7,cov['cov'][i])\n",
    "    worksheet.write(4,0,'序号')\n",
    "    worksheet.set_column('A:A',10)#设置第2列宽度为20像素\n",
    "    #worksheet.write(3,1,'模型')\n",
    "    worksheet.write(4,1,'Pcorr')\n",
    "    worksheet.write(4,2,'NSE')\n",
    "    worksheet.write(4,3,'RMSE')\n",
    "    worksheet.write(4,4,'pvalue')\n",
    "    rmse_mean = 0\n",
    "    for r in range(int(len(total))):\n",
    "        worksheet.write(r+5,0,r)\n",
    "        #worksheet.write(r+1,1,total[r]['factors_str'])\n",
    "        worksheet.write(r+5,1,total[r]['pcorr'])\n",
    "        worksheet.write(r+5,2,total[r]['nse'])\n",
    "        worksheet.write(r+5,3,total[r]['rmse'])\n",
    "        rmse_mean = rmse_mean + total[r]['rmse']\n",
    "        worksheet.write(r+5,4,total[r]['pvalue'])\n",
    "    rmse_mean = rmse_mean / len(total)\n",
    "    return rmse_mean"
   ]
  },
  {
   "cell_type": "code",
   "execution_count": 5,
   "metadata": {},
   "outputs": [],
   "source": [
    "# listing all file names: all .mat file in my computer are stored in ./data/ directory \n",
    "file_names = ['HI-04-16-17']\n",
    "file_dir = 'C:/Users/admin/data1/'\n",
    "dt = np.dtype([('factors_str',str,80), ('r_2_0', float), ('nse', float), ('rmse', float),\\\n",
    "    ('pcorr', float), ('test_y', np.ndarray), ('test_pred', np.ndarray),('train_pred', np.ndarray), ('pvalue',float), \\\n",
    "    ('window_size', int), ('training_proportion', float),('test_year',np.ndarray),('train_year',np.ndarray)])\n",
    "year_cov = np.dtype([('year_index',list),('cov',list)])"
   ]
  },
  {
   "cell_type": "code",
   "execution_count": 6,
   "metadata": {
    "scrolled": true
   },
   "outputs": [
    {
     "name": "stdout",
     "output_type": "stream",
     "text": [
      "selected_kinds:  ['chla', 'DIN', 'WS', 'Current', 'temp', 'year']\n",
      "22\n",
      "1000\n",
      "1\n"
     ]
    },
    {
     "data": {
      "image/png": "[encoded data removed]",
      "text/plain": [
       "<Figure size 1080x432 with 1 Axes>"
      ]
     },
     "metadata": {
      "needs_background": "light"
     },
     "output_type": "display_data"
    }
   ],
   "source": [
    "workbook = xlsxwriter.Workbook('HI_随机森林_3.xlsx') #create a excel table named result.xlsx\n",
    "workbook2 = xlsxwriter.Workbook('HI_随机森林_3.xlsx') \n",
    "# reading data from .mat\n",
    "performance = np.array([], dtype=year_cov)\n",
    "for name in file_names:\n",
    "    for training_proportion in training_proportion_range:\n",
    "        if training_proportion == 1:\n",
    "            running_num = 10\n",
    "        for window_size in [1]:\n",
    "            file_path = file_dir + name + '.mat'\n",
    "            data = loadmat(file_path)['X']\n",
    "            data = pd.DataFrame(data, columns=('chla', 'temp', 'DIN', 'density', 'chla_SD', 'std_temp_SD', 'DIN_SD', 'density_SD', 'WS', 'Current', 'HI', 'year'))\n",
    "            \n",
    "            data = data.reset_index(drop=True)    ###for monthly\n",
    "            # converting data type\n",
    "            data['year'] = data['year'].astype('i4')\n",
    "            #data['month'] = data['month'].astype('i4') #for monthly\n",
    "            all_kinds = []\n",
    "            #all_kinds.append(list(factors_all))\n",
    "    \n",
    "            all_kinds.append(list(factors1))\n",
    "            all_kinds.append(list(factors2))\n",
    "\n",
    "            Data = []\n",
    "            for k in range(1):\n",
    "                fig, subfigure = plt.subplots(fig_rows, fig_cols, figsize=(15 * fig_cols, 6 * fig_rows))\n",
    "                subfigures = []\n",
    "                subfigures.append(subfigure)\n",
    "\n",
    "                all_rmse = []\n",
    "                all_train_rmse = []\n",
    "                all_test_rmse = []\n",
    "                all_test_nse = []\n",
    "                all_train_nse = []\n",
    "                nse_test_array = []\n",
    "                nse_train_array = []\n",
    "                total = np.array([], dtype=dt)\n",
    "                selected_kinds = all_kinds[k]\n",
    "            \n",
    "                factors_str = ''\n",
    "                \n",
    "                for i in selected_kinds:\n",
    "                    factors_str += i\n",
    "                    factors_str += ' '\n",
    "                \n",
    "                Data.append(factors_str)\n",
    "                selected_kinds.append('year')\n",
    "                print(\"selected_kinds: \",selected_kinds)\n",
    "                # constructing datasets\n",
    "                X = data[selected_kinds]\n",
    "                Y = data['HI']\n",
    "                selected_kinds.remove('year')\n",
    "                total_NSE = 0\n",
    "                \n",
    "                for i in range(running_num):\n",
    "                    all_train, all_test, Y_train, Y_test = train_test_split(X, Y, test_size=testing_pro, random_state=i)\n",
    "                    X_train = all_train[selected_kinds]\n",
    "                    X_test = all_test[selected_kinds]\n",
    "                #data preprocessing: data standardization\n",
    "                    X_mean = X_train.mean(axis=0)\n",
    "                    X_std = X_train.std(axis=0)\n",
    "                    Y_mean = Y_train.mean(axis=0)\n",
    "                    Y_std = Y_train.std(axis=0)\n",
    "                    X_train_norm = (X_train - X_mean) / X_std\n",
    "                    Y_train_norm = (Y_train - Y_mean) / Y_std\n",
    "                    X_test_norm = (X_test - X_mean) / X_std\n",
    "                    Y_test_norm = (Y_test - Y_mean) / Y_std\n",
    "\n",
    "                # 多元线性回归\n",
    "                    clf = RandomForestRegressor(n_estimators=5,random_state=45,bootstrap=True)\n",
    "                    clf.fit(X_train_norm, Y_train_norm)\n",
    "                    test_pred = clf.predict(X_test_norm)\n",
    "                    train_pred = clf.predict(X_train_norm)\n",
    "                    clf_test_pred = test_pred * Y_std + Y_mean\n",
    "                    clf_train_pred = train_pred * Y_std + Y_mean\n",
    "                #计算R2\n",
    "                    R_2_0 = metrics.r2_score(Y_test.values, clf_test_pred) \n",
    "                #计算NSE, RMSE, Pcorr\n",
    "                    NSE_test = cal_NSE(Y_test.values, clf_test_pred, Y_mean)\n",
    "                    NSE_train = cal_NSE(Y_train.values, clf_train_pred, Y_mean)\n",
    "                    RMSE = cal_RMSE(Y_test.values, clf_test_pred)\n",
    "                    RMSE_test = cal_RMSE(Y_test.values,clf_test_pred)\n",
    "                    RMSE_train = cal_RMSE(Y_train.values,clf_train_pred)\n",
    "                    pearson = stats.pearsonr(np.array(Y_test, dtype='float'), np.array(clf_test_pred, dtype='float'))\n",
    "                    Pcorr = pearson[0]\n",
    "                    pvalue = pearson[1]\n",
    "                \n",
    "                    Data.append(Pcorr)\n",
    "                    Data.append(NSE_test)\n",
    "                    Data.append(RMSE)\n",
    "                    all_rmse.append(RMSE)\n",
    "                    all_test_rmse.append(RMSE_test)\n",
    "                    all_train_rmse.append(RMSE_train)\n",
    "                    all_test_nse.append(NSE_test)\n",
    "                    all_train_nse.append(NSE_train)\n",
    "                \n",
    "                    test_year = all_test['year'][:]\n",
    "                    train_year = all_train['year'][:]\n",
    "                \n",
    "                    for mm in range(test_num):\n",
    "                        my_test_pred[test_year.index[mm]].append(clf_test_pred[mm]) \n",
    "                        \n",
    "                    item = (factors_str, R_2_0, NSE_test, RMSE, Pcorr, Y, clf_test_pred, clf_train_pred, pvalue, window_size, training_proportion, test_year, train_year)\n",
    "                    total = np.append(total, np.array(item, dtype=dt))\n",
    "\n",
    "                for mm in range(data_num):\n",
    "                    cov[mm] = cal_Cov(my_test_pred[mm],data['HI'][mm])\n",
    "                    item2 = (mm+1994,cov[mm])\n",
    "                    performance = np.append(performance,np.array(item2,dtype = year_cov))\n",
    "                \n",
    "                print(len(performance))\n",
    "                print(len(total))\n",
    "                nse_test_mean = np.mean(all_test_nse)\n",
    "                nse_test_std = np.std(all_test_nse,ddof = 1)\n",
    "                rmse_train_std = np.std(all_train_rmse,ddof=1)\n",
    "                rmse_train_mean = np.mean(all_train_rmse)\n",
    "                rmse_test_std = np.std(all_test_rmse,ddof=1)\n",
    "                rmse_test_mean = np.mean(all_test_rmse)\n",
    "                rmse_std = np.std(all_rmse,ddof=1)\n",
    "                nse_test_sorted = sorted(all_test_nse)\n",
    "                nse_test_max = nse_test_sorted[len(nse_test_sorted)-1]\n",
    "                nse_test_min = nse_test_sorted[0]\n",
    "                nse_test_array.append(nse_test_mean)\n",
    "                nse_test_array.append(nse_test_std)\n",
    "                nse_test_array.append(nse_test_min)\n",
    "                nse_test_array.append(nse_test_max)\n",
    "                \n",
    "                nse_train_mean = np.mean(all_train_nse)\n",
    "                nse_train_std = np.std(all_train_nse,ddof = 1)\n",
    "                nse_train_sorted = sorted(all_train_nse)\n",
    "                nse_train_max = nse_train_sorted[len(nse_train_sorted)-1]\n",
    "                nse_train_min = nse_train_sorted[0]\n",
    "                nse_train_array.append(nse_train_mean)\n",
    "                nse_train_array.append(nse_train_std)\n",
    "                nse_train_array.append(nse_train_min)\n",
    "                nse_train_array.append(nse_train_max)         \n",
    "                \n",
    "    # sort the predicted results by NSE\n",
    "                total = np.sort(total, kind='mergesort', order='nse')\n",
    "                total = np.flipud(total)\n",
    "                #print(total)\n",
    "                performance = np.sort(performance, kind = 'mergesort',order='cov')\n",
    "                #print(performance)\n",
    "                write_excel(workbook, factors_str, total, nse_test_array, nse_train_array)#write result into excel file\n",
    "                rmse_mean = write_excel2(workbook2, factors_str, total, nse_test_array, nse_train_array,performance)\n",
    "#    workbook.close() #close excel file\n",
    "                for kk in range(1):\n",
    "                    # 建立时间戳，作为图表下标\n",
    "                    if kk == 0:\n",
    "                        m = 0\n",
    "                    else:\n",
    "                        m = len(total) - 1\n",
    "                    window_size = total[m]['window_size']\n",
    "                    training_proportion = total[m]['training_proportion']\n",
    "                    years = list(data['year'])\n",
    "                    test_years = total[m]['test_year']\n",
    "                    train_years = total[m]['train_year']\n",
    "                    x = [str(year) for year in years]\n",
    "                    x = [datetime.strptime(i, '%Y') for i in x]\n",
    "                    x = matplotlib.dates.date2num(x)\n",
    "                    test_x = [str(year) for year in test_years]\n",
    "                    test_x = [datetime.strptime(i, '%Y') for i in test_x]\n",
    "                    test_x = matplotlib.dates.date2num(test_x)\n",
    "                    train_x = [str(year) for year in train_years]\n",
    "                    train_x = [datetime.strptime(i, '%Y') for i in train_x]\n",
    "                    train_x = matplotlib.dates.date2num(train_x)\n",
    "        # 实际值与预测值对比图\n",
    "                    print(total[m]['window_size'])\n",
    "                    plt.subplots_adjust(wspace=0, hspace=0.4)\n",
    "                    plt.ylabel(\"HI\",size=20)\n",
    "                    subfigures[kk].plot(x, data['HI'], 'r-',linewidth = 2, label='')\n",
    "                    subfigures[kk].scatter(x, data['HI'], marker='o', edgecolor='r', s=70, linewidths=3, label='HI实际数据点')\n",
    "                    subfigures[kk].scatter(test_x, total[m]['test_pred'],s=68, label='测试集',color = 'b')\n",
    "                    subfigures[kk].scatter(train_x, total[m]['train_pred'],s=68, label='训练集',color = 'g',marker='^' )\n",
    "                    subfigures[kk].set_xticklabels(labels=x, rotation=45, size = 15)\n",
    "                    subfigures[k].tick_params(labelsize=15)\n",
    "                    subfigures[kk].xaxis.set_major_formatter(matplotlib.dates.DateFormatter('%Y'))\n",
    "                    subfigures[kk].xaxis.set_major_locator(matplotlib.dates.YearLocator())\n",
    "                    subfigures[kk].legend(loc='best')\n",
    "                    subfigures[kk].set_title('(b) \\n $R^2$={3}%  NSE={0}  RMSE={1}  Pcorr={2}(p<0.01)'.format(\\\n",
    "             round(total[m]['nse'],2), round(total[m]['rmse'],2), round(total[m]['pcorr'],2), \\\n",
    "            round(total[m]['r_2_0']* 100, 2)),size=18)\n",
    "                    subfigures[kk].legend(loc='upper left')\n",
    "                plt.tight_layout()\n",
    "                plt.savefig('HI_随机森林_'+ '最佳预测模型' +'.pdf')\n",
    "                plt.savefig('HI_随机森林_'+ '最佳预测模型' +'.png')\n",
    "workbook.close() #close excel file\n",
    "workbook2.close()"
   ]
  },
  {
   "cell_type": "code",
   "execution_count": 7,
   "metadata": {},
   "outputs": [
    {
     "name": "stdout",
     "output_type": "stream",
     "text": [
      "test nse mean:\n",
      "0.5324404138037974\n",
      "train nse mean:\n",
      "0.8786517678318967\n"
     ]
    }
   ],
   "source": [
    "print(\"test nse mean:\")\n",
    "print(nse_test_mean)\n",
    "print(\"train nse mean:\")\n",
    "print(nse_train_mean)"
   ]
  },
  {
   "cell_type": "code",
   "execution_count": 8,
   "metadata": {
    "scrolled": true
   },
   "outputs": [
    {
     "name": "stdout",
     "output_type": "stream",
     "text": [
      "1.6361664601385975\n",
      "0.8171780451571831\n",
      "0.1695562096828993\n",
      "0.4292943757233019\n"
     ]
    }
   ],
   "source": [
    "print(rmse_test_mean)\n",
    "print(rmse_train_mean)\n",
    "print(rmse_train_std)\n",
    "print(rmse_test_std)"
   ]
  },
  {
   "cell_type": "code",
   "execution_count": 9,
   "metadata": {
    "scrolled": true
   },
   "outputs": [
    {
     "name": "stdout",
     "output_type": "stream",
     "text": [
      "0.4292943757233019\n",
      "0.053108176878259736\n",
      "0.290466190191358\n"
     ]
    }
   ],
   "source": [
    "print(rmse_std)\n",
    "print(nse_train_std)\n",
    "print(nse_test_std)"
   ]
  },
  {
   "cell_type": "code",
   "execution_count": null,
   "metadata": {},
   "outputs": [],
   "source": []
  },
  {
   "cell_type": "code",
   "execution_count": null,
   "metadata": {},
   "outputs": [],
   "source": []
  }
 ],
 "metadata": {
  "kernelspec": {
   "display_name": "Python 3",
   "language": "python",
   "name": "python3"
  },
  "language_info": {
   "codemirror_mode": {
    "name": "ipython",
    "version": 3
   },
   "file_extension": ".py",
   "mimetype": "text/x-python",
   "name": "python",
   "nbconvert_exporter": "python",
   "pygments_lexer": "ipython3",
   "version": "3.8.3"
  },
  "varInspector": {
   "cols": {
    "lenName": 16,
    "lenType": 16,
    "lenVar": 40
   },
   "kernels_config": {
    "python": {
     "delete_cmd_postfix": "",
     "delete_cmd_prefix": "del ",
     "library": "var_list.py",
     "varRefreshCmd": "print(var_dic_list())"
    },
    "r": {
     "delete_cmd_postfix": ") ",
     "delete_cmd_prefix": "rm(",
     "library": "var_list.r",
     "varRefreshCmd": "cat(var_dic_list()) "
    }
   },
   "types_to_exclude": [
    "module",
    "function",
    "builtin_function_or_method",
    "instance",
    "_Feature"
   ],
   "window_display": false
  }
 },
 "nbformat": 4,
 "nbformat_minor": 4
}
