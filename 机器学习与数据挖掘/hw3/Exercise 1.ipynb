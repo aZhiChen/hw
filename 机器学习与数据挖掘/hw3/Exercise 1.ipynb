{
 "cells": [
  {
   "cell_type": "code",
   "execution_count": 68,
   "id": "06d38537-03e6-4671-a64d-ddc1f236f7ca",
   "metadata": {},
   "outputs": [],
   "source": [
    "from random import randint\n",
    "import numpy as np\n",
    "import decimal\n",
    "from sklearn import metrics\n",
    "import matplotlib.pyplot as plt"
   ]
  },
  {
   "cell_type": "code",
   "execution_count": 97,
   "id": "ebebb626-6eb0-49db-a643-4c73ee30d825",
   "metadata": {},
   "outputs": [],
   "source": [
    "def openreadtxt(file_name):\n",
    "    data = []\n",
    "    file = open(file_name,'r')  #打开文件\n",
    "    file_data = file.readlines() #读取所有行\n",
    "    for row in file_data:\n",
    "        tmp_list = row.split(' ') #按‘，’切分每行的数据\n",
    "        tmp_list[-1] = tmp_list[-1].replace('\\n','') #去掉换行符\n",
    "        for i in range(len(tmp_list)): #将字符串转化为浮点数\n",
    "            tmp_list[i] = float(tmp_list[i])\n",
    "        data.append(tmp_list) #将每行数据插入data中\n",
    "    return data\n",
    "\n",
    "def pred(x, w):\n",
    "    pred_y = 0\n",
    "    for i in range(len(w)):\n",
    "        if(i == len(w)-1): #w[i]是偏置\n",
    "            pred_y += w[i]\n",
    "        else:\n",
    "            pred_y += (x[i] * w[i])\n",
    "        #print(pred_y)\n",
    "    return pred_y\n",
    "\n",
    "def SGD(Y, X, w, alpha):\n",
    "    '''\n",
    "    w: 参数 \n",
    "    alpha: 学习率\n",
    "    '''\n",
    "    i = randint(0,len(Y)-1)\n",
    "    for j in range(len(w)):\n",
    "        if( j == len(w) - 1 ):\n",
    "            w[j] = w[j] + alpha * (Y[i] - pred(X[i],w))\n",
    "        else:\n",
    "            w[j] = w[j] + alpha * (Y[i] - pred(X[i],w)) * X[i][j]\n",
    "            \n",
    "def GD(Y, X, w, alpha):\n",
    "    sum0 = 0\n",
    "    sum1 = 0\n",
    "    sum2 = 0\n",
    "    for i in range(len(X)): \n",
    "        y_pred = pred(X[i],w)\n",
    "        sum0 += (Y[i] - y_pred) * X[i][0]\n",
    "        sum1 += (Y[i] - y_pred) * X[i][1]\n",
    "        sum2 += (Y[i] - y_pred)\n",
    "    w[0] += alpha * (sum0 / len(X))\n",
    "    w[1] += alpha * (sum1 / len(X))\n",
    "    w[2] += alpha * (sum2 / len(X))\n",
    "    \n",
    "        \n",
    "def MSE(Y_pred, Y):\n",
    "    MSE = 0\n",
    "    #for i in range(len(Y)):\n",
    "    #    #print(round((Y_pred[i] - Y[i]),2))\n",
    "    #    tmp = pow((Y_pred[i] - Y[i]),2)\n",
    "    #    MSE += tmp\n",
    "        #print(MSE)\n",
    "    #MSE = MSE/len(Y)\n",
    "    MSE = metrics.mean_squared_error(np.array(Y), np.array(Y_pred))\n",
    "    return MSE\n",
    "\n",
    "def pred_Y(X,w):\n",
    "    Y_pred = []\n",
    "    for i in range(len(X)):\n",
    "        y = pred(X[i],w)\n",
    "        Y_pred.append(y)\n",
    "    return Y_pred\n",
    "\n",
    "#归一化处理\n",
    "def autoNorm(data, mins, maxs):         #传入一个矩阵\n",
    "    ranges = maxs - mins    #最大值列表 - 最小值列表 = 差值列表\n",
    "    normData = np.zeros(np.shape(data))     #生成一个与 data矩阵同规格的normData全0矩阵，用于装归一化后的数据\n",
    "    row = data.shape[0]                     #返回 data矩阵的行数\n",
    "    normData = data - np.tile(mins,(row,1)) #data矩阵每一列数据都减去每一列的最小值\n",
    "    normData = normData / np.tile(ranges,(row,1))   #data矩阵每一列数据都除去每一列的差值（差值 = 某列的最大值- 某列最小值）\n",
    "    return normData"
   ]
  },
  {
   "cell_type": "code",
   "execution_count": 106,
   "id": "46ca5398-fd1a-4b32-b127-2bf360299b02",
   "metadata": {
    "tags": []
   },
   "outputs": [],
   "source": [
    "#读取数据\n",
    "data_train = openreadtxt('dataForTrainingLinear.txt')\n",
    "data_test = openreadtxt('dataForTestingLinear.txt')\n",
    "#print(data_train)\n",
    "#划分数据\n",
    "X_train = []\n",
    "Y_train = []\n",
    "X_test = []\n",
    "Y_test = []\n",
    "for d in data_train:\n",
    "    x = []\n",
    "    x.append(d[0])\n",
    "    x.append(d[1])\n",
    "    X_train.append(x)\n",
    "    Y_train.append(d[2])\n",
    "mins = np.array(X_train).min(0)\n",
    "maxs = np.array(X_train).max(0) #返回data矩阵中每一列中最大的元素，返回一个列表\n",
    "X_train = autoNorm(np.array(X_train),mins,maxs).tolist()\n",
    "\n",
    "\n",
    "for d in data_test:\n",
    "    x = []\n",
    "    x.append(d[0])\n",
    "    x.append(d[1])\n",
    "    X_test.append(x)\n",
    "    Y_test.append(d[2])\n",
    "X_test = autoNorm(np.array(X_test),mins,maxs).tolist()\n",
    "#初始化参数\n",
    "w = [0.0,0.0,0.0]\n",
    "training_times = 1500001\n",
    "alpha = 0.00015\n",
    "MSE_train = []\n",
    "MSE_test = []\n",
    "for i in range(training_times):\n",
    "    if (i%100000 == 0 and i > 0):\n",
    "        #print(i)\n",
    "        #print(w)\n",
    "        train_pred = pred_Y(X_train,w)\n",
    "        mse = MSE(train_pred,Y_train)\n",
    "        MSE_train.append(mse)\n",
    "        test_pred = pred_Y(X_test,w)\n",
    "        mse = MSE(test_pred, Y_test)\n",
    "        MSE_test.append(mse)\n",
    "    SGD(Y_train, X_train, w, alpha)\n"
   ]
  },
  {
   "cell_type": "code",
   "execution_count": 107,
   "id": "0932a9eb-a30f-4be1-80d1-8f53981ea0e9",
   "metadata": {
    "tags": []
   },
   "outputs": [
    {
     "name": "stdout",
     "output_type": "stream",
     "text": [
      "[15572.629388768422, 6331.600467602033, 2631.4865865723878, 1107.7281593151474, 465.5907827176714, 196.53833651947124, 84.36640842287508, 37.71254475870276, 18.000445780983327, 9.746849508195005, 6.292888099594559, 4.856282233362169, 4.257743190838429, 4.001455660923026, 3.8937030097540055]\n",
      "[10096.429265765792, 3526.209750595859, 1256.7836829675737, 427.21598350301355, 149.4689899500766, 70.59890380879007, 62.539204249777775, 75.55645576042325, 92.12881219619062, 104.05898282797166, 113.64137388082159, 119.65147133873911, 124.51225541459796, 128.38780898784472, 130.14947748746906]\n",
      "15\n"
     ]
    }
   ],
   "source": [
    "print(MSE_train)\n",
    "print(MSE_test)\n",
    "print(len(MSE_train))"
   ]
  },
  {
   "cell_type": "code",
   "execution_count": 109,
   "id": "f2e299bc-3a5e-4b77-ab60-391860245121",
   "metadata": {},
   "outputs": [
    {
     "data": {
      "image/png": "[encoded data removed]",
      "text/plain": [
       "<Figure size 432x288 with 1 Axes>"
      ]
     },
     "metadata": {
      "needs_background": "light"
     },
     "output_type": "display_data"
    }
   ],
   "source": [
    "xx = [100000,200000,300000,400000,500000,600000,700000,800000,900000,1000000,1100000,1200000,1300000,1400000,1500000]\n",
    "plt.plot(xx, MSE_train,color = 'red',marker='o',markersize=4, label='MSE_train')\n",
    "plt.plot(xx,MSE_test, color = 'blue',marker='o',markersize=4, label= 'MSE_test')\n",
    "plt.legend()\n",
    "plt.title(\"MSE\")\n",
    "plt.savefig('c_MSE.png')"
   ]
  },
  {
   "cell_type": "code",
   "execution_count": 108,
   "id": "6132203b-4cb6-4753-aa5d-7c47e921b696",
   "metadata": {},
   "outputs": [
    {
     "data": {
      "image/png": "[encoded data removed]",
      "text/plain": [
       "<Figure size 432x288 with 1 Axes>"
      ]
     },
     "metadata": {
      "needs_background": "light"
     },
     "output_type": "display_data"
    }
   ],
   "source": [
    "xx = [600000,700000,800000,900000,1000000,1100000,1200000,1300000,1400000,1500000]\n",
    "plt.plot(xx, MSE_train[5:],color = 'red',marker='o',markersize=4, label='MSE_train')\n",
    "plt.plot(xx,MSE_test[5:], color = 'blue',marker='o',markersize=4, label= 'MSE_test')\n",
    "plt.legend()\n",
    "plt.title(\"MSE\")\n",
    "plt.savefig('c_MSE2.png')"
   ]
  },
  {
   "cell_type": "code",
   "execution_count": null,
   "id": "a33e3b3a-3a19-4221-a425-11014eb1c1bb",
   "metadata": {},
   "outputs": [],
   "source": []
  }
 ],
 "metadata": {
  "kernelspec": {
   "display_name": "Python 3 (ipykernel)",
   "language": "python",
   "name": "python3"
  },
  "language_info": {
   "codemirror_mode": {
    "name": "ipython",
    "version": 3
   },
   "file_extension": ".py",
   "mimetype": "text/x-python",
   "name": "python",
   "nbconvert_exporter": "python",
   "pygments_lexer": "ipython3",
   "version": "3.9.7"
  }
 },
 "nbformat": 4,
 "nbformat_minor": 5
}
