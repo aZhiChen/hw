{
 "cells": [
  {
   "cell_type": "code",
   "execution_count": 91,
   "id": "f5267fe1-ccda-433b-9030-8e4255d6ec32",
   "metadata": {},
   "outputs": [],
   "source": [
    "from random import randint\n",
    "import numpy as np\n",
    "import decimal\n",
    "from sklearn import metrics\n",
    "import matplotlib.pyplot as plt\n",
    "import math\n",
    "from sklearn.model_selection import train_test_split"
   ]
  },
  {
   "cell_type": "code",
   "execution_count": 114,
   "id": "b3790bf5-e71f-48bc-ad9c-f56265a2d469",
   "metadata": {},
   "outputs": [],
   "source": [
    "def openreadtxt(file_name):\n",
    "    data = []\n",
    "    file = open(file_name,'r')  #打开文件\n",
    "    file_data = file.readlines() #读取所有行\n",
    "    for row in file_data:\n",
    "        tmp_list = row.split(' ') #按‘，’切分每行的数据\n",
    "        tmp_list[-1] = tmp_list[-1].replace('\\n','') #去掉换行符\n",
    "        for i in range(len(tmp_list)): #将字符串转化为浮点数\n",
    "            tmp_list[i] = float(tmp_list[i])\n",
    "        data.append(tmp_list) #将每行数据插入data中\n",
    "    return data\n",
    "\n",
    "def pred(x, w):\n",
    "    pred_y = 0\n",
    "    for i in range(len(w)):\n",
    "        if(i == len(w)-1): #w[i]是偏置\n",
    "            pred_y += w[i]\n",
    "        else:\n",
    "            pred_y += (x[i] * w[i])\n",
    "        #print(pred_y)\n",
    "        #pred_y = sigmoid(pred_y)\n",
    "    return pred_y\n",
    "\n",
    "def SGD(Y, X, w, alpha):\n",
    "    '''\n",
    "    w: 参数 \n",
    "    alpha: 学习率\n",
    "    '''\n",
    "    i = randint(0,len(Y)-1)\n",
    "    for j in range(len(w)):\n",
    "        if( j == len(w) - 1 ):\n",
    "            w[j] = w[j] + alpha * (Y[i] - sigmoid(pred(X[i],w)))\n",
    "        else:\n",
    "            w[j] = w[j] + alpha * (Y[i] - sigmoid(pred(X[i],w))) * X[i][j]\n",
    "            \n",
    "def GD(Y, X, w, alpha):\n",
    "    sum0 = 0\n",
    "    sum1 = 0\n",
    "    sum2 = 0\n",
    "    sum3 = 0\n",
    "    sum4 = 0\n",
    "    sum5 = 0\n",
    "    sum6 = 0\n",
    "    for i in range(len(X)): \n",
    "        y_pred = pred(X[i],w)\n",
    "        sum0 += (Y[i] - y_pred) * X[i][0]\n",
    "        sum1 += (Y[i] - y_pred) * X[i][1]\n",
    "        sum2 += (Y[i] - y_pred) * X[i][2]\n",
    "        sum3 += (Y[i] - y_pred) * X[i][3]\n",
    "        sum4 += (Y[i] - y_pred) * X[i][4]\n",
    "        sum5 += (Y[i] - y_pred) * X[i][5]\n",
    "        sum6 += (Y[i] - y_pred)\n",
    "    w[0] += alpha * (sum0 )\n",
    "    w[1] += alpha * (sum1 )\n",
    "    w[2] += alpha * (sum2 )\n",
    "    w[3] += alpha * (sum3 )\n",
    "    w[4] += alpha * (sum4 )\n",
    "    w[5] += alpha * (sum5 )\n",
    "    w[6] += alpha * (sum6 )\n",
    "    \n",
    "        \n",
    "def MSE(Y_pred, Y):\n",
    "    MSE = 0\n",
    "    #for i in range(len(Y)):\n",
    "    #    #print(round((Y_pred[i] - Y[i]),2))\n",
    "    #    tmp = pow((Y_pred[i] - Y[i]),2)\n",
    "    #    MSE += tmp\n",
    "        #print(MSE)\n",
    "    #MSE = MSE/len(Y)\n",
    "    MSE = metrics.mean_squared_error(np.array(Y), np.array(Y_pred))\n",
    "    return MSE\n",
    "\n",
    "def L(X, Y, w):\n",
    "    l = 0;\n",
    "    for i in range(len(Y)):\n",
    "        l += Y[i]*pred(X[i],w) - math.log(1 + np.exp(pred(X[i],w)))\n",
    "    l = l / len(Y)\n",
    "    return l\n",
    "    \n",
    "    \n",
    "def pred_Y(X,w):\n",
    "    Y_pred = []\n",
    "    for i in range(len(X)):\n",
    "        y = pred(X[i],w)\n",
    "        y = sigmoid(y)\n",
    "        Y_pred.append(y)\n",
    "    return Y_pred\n",
    "\n",
    "def sigmoid(x):\n",
    "    return 1. / (1 + np.exp(-x))\n",
    "\n",
    "def error(y_pred,y):\n",
    "    sum = 0\n",
    "    for i in range(len(y_pred)):\n",
    "        tmp = 0\n",
    "        if(y_pred[i] > 0.5):\n",
    "            tmp = 1 \n",
    "        sum += abs(tmp - y[i])\n",
    "    return sum / len(y)"
   ]
  },
  {
   "cell_type": "code",
   "execution_count": 102,
   "id": "8c78b838-f8f3-458f-aece-55aa59fa6211",
   "metadata": {},
   "outputs": [],
   "source": [
    "#读取数据\n",
    "data_train = openreadtxt('dataForTrainingLogistic.txt')\n",
    "data_test = openreadtxt('dataForTestingLogistic.txt')\n",
    "#print(data_train)\n",
    "#划分数据\n",
    "X_train = []\n",
    "Y_train = []\n",
    "X_test = []\n",
    "Y_test = []\n",
    "for d in data_train:\n",
    "    x = []\n",
    "    x.append(d[0])\n",
    "    x.append(d[1])\n",
    "    x.append(d[2])\n",
    "    x.append(d[3])\n",
    "    x.append(d[4])\n",
    "    x.append(d[5])\n",
    "    X_train.append(x)\n",
    "    Y_train.append(d[6])\n",
    "\n",
    "\n",
    "\n",
    "for d in data_test:\n",
    "    x = []\n",
    "    x.append(d[0])\n",
    "    x.append(d[1])\n",
    "    x.append(d[2])\n",
    "    x.append(d[3])\n",
    "    x.append(d[4])\n",
    "    x.append(d[5])\n",
    "    X_test.append(x)\n",
    "    Y_test.append(d[6])\n"
   ]
  },
  {
   "cell_type": "code",
   "execution_count": 125,
   "id": "64def475-e40e-407c-b29b-2fd64c35f5fd",
   "metadata": {
    "tags": []
   },
   "outputs": [
    {
     "name": "stdout",
     "output_type": "stream",
     "text": [
      "<class 'float'>\n"
     ]
    }
   ],
   "source": [
    "#（f）\n",
    "#初始化参数\n",
    "w = [1.0,1.0,1.0,1.0,1.0,1.0,1.0]\n",
    "training_times = 50\n",
    "alpha = 0.02\n",
    "E_train = []\n",
    "E_test = []\n",
    "xx = []\n",
    "K = []\n",
    "print(type(Y_train[0]))\n",
    "for j in range(40):\n",
    "    k = 10 *(j+1)\n",
    "    K.append(k)\n",
    "    if( j < 39):\n",
    "        X_test_k, X_train_k = train_test_split(X_train, test_size= (k/400) , random_state=42)\n",
    "        Y_test_k, Y_train_k = train_test_split(Y_train, test_size= (k/400) , random_state=42)\n",
    "    else:\n",
    "        X_train_k = X_train\n",
    "        Y_train = Y_train\n",
    "    #print(len(X_train_k))\n",
    "    for i in range(training_times):\n",
    "        SGD(Y_train_k, X_train_k, w, alpha)\n",
    "    train_pred = pred_Y(X_train,w)\n",
    "    e = error(train_pred, Y_train)\n",
    "    E_train.append(e)\n",
    "    test_pred = pred_Y(X_test,w)\n",
    "    e = error(test_pred,Y_test)\n",
    "    E_test.append(e)"
   ]
  },
  {
   "cell_type": "code",
   "execution_count": 127,
   "id": "c5100f2d-abff-4866-861f-014b53ffd9c3",
   "metadata": {},
   "outputs": [
    {
     "data": {
      "image/png": "[encoded data removed]",
      "text/plain": [
       "<Figure size 432x288 with 1 Axes>"
      ]
     },
     "metadata": {
      "needs_background": "light"
     },
     "output_type": "display_data"
    }
   ],
   "source": [
    "#(f)\n",
    "plt.plot(K, E_train,color = 'red',marker='o',markersize=4, label='L_train')\n",
    "plt.plot(K, E_test, color = 'blue',marker='o',markersize=4, label= 'L_test')\n",
    "plt.xlabel('K value')\n",
    "plt.ylabel('Error value')\n",
    "plt.legend()\n",
    "plt.title(\"Error rate\")\n",
    "plt.savefig('2_f_MSE3.png')"
   ]
  },
  {
   "cell_type": "code",
   "execution_count": 103,
   "id": "31b1e00a-52a1-4cbb-8970-f75daaef7010",
   "metadata": {},
   "outputs": [
    {
     "name": "stdout",
     "output_type": "stream",
     "text": [
      "<class 'float'>\n",
      "80000\n",
      "[-5.1762613660269645, 7.689458584147679, -5.271918884212417, 7.033504732436913, -3.9539220377078728, 0.24612452141824726, 0.7270374412967873]\n",
      "160000\n",
      "[-6.083154192323228, 9.111998476597332, -6.2214448791494625, 8.130465143275982, -4.518095529399847, 0.19017934857968932, 0.8612411169476523]\n",
      "240000\n",
      "[-6.643805660220065, 10.075465197468125, -6.862502630149573, 8.86234647061693, -4.828626903976234, 0.15385153820076072, 0.9455475864145576]\n",
      "320000\n",
      "[-7.075613285199171, 10.78588538928935, -7.377729591222791, 9.369792809714449, -5.074575661355577, 0.14988627147127284, 0.9719669529682741]\n",
      "400000\n",
      "[-7.424556271113279, 11.364080244911493, -7.781601114701265, 9.772899849636064, -5.254870669675948, 0.10305216776086297, 0.9941645667819432]\n",
      "480000\n",
      "[-7.699592172524109, 11.866359154203044, -8.108793747347233, 10.121335628629678, -5.375938640907865, 0.11070959144515811, 1.0417967500769936]\n",
      "560000\n",
      "[-7.955342592703374, 12.295185714998857, -8.405502868554146, 10.405412169011159, -5.504382875020189, 0.07423785555764946, 1.0472720705199847]\n",
      "640000\n",
      "[-8.166432656159582, 12.704874790855188, -8.660754869888947, 10.684602879210898, -5.591944511097684, 0.08562029187551297, 1.0937667367144734]\n",
      "720000\n",
      "[-8.401725615092479, 13.05131505459881, -8.921446919673619, 10.889976540184813, -5.7096181665288785, -0.011647752404878338, 1.0671196594341152]\n",
      "800000\n",
      "[-8.557283460172556, 13.392902837275134, -9.13240944729009, 11.131142181753146, -5.748518549700292, 0.04262407017141604, 1.1343569808164693]\n"
     ]
    }
   ],
   "source": [
    "#初始化参数\n",
    "w = [1.0,1.0,1.0,1.0,1.0,1.0,1.0]\n",
    "training_times = 800001\n",
    "alpha = 0.02\n",
    "L_train = []\n",
    "L_test = []\n",
    "xx = []\n",
    "print(type(Y_train[0]))\n",
    "for i in range(training_times):\n",
    "    if (i% 80000 == 0 and i > 0):\n",
    "        xx.append(i)\n",
    "        print(i)\n",
    "        print(w)\n",
    "        train_pred = pred_Y(X_train,w)\n",
    "        l = L(X_train,Y_train,w)\n",
    "        L_train.append(l)\n",
    "        test_pred = pred_Y(X_test,w)\n",
    "        l = L(X_test,Y_test,w)\n",
    "        L_test.append(l)\n",
    "    SGD(Y_train, X_train, w, alpha)"
   ]
  },
  {
   "cell_type": "code",
   "execution_count": 89,
   "id": "94cb4d7e-aac7-4315-b5e8-d7d88705a267",
   "metadata": {},
   "outputs": [
    {
     "data": {
      "image/png": "[encoded data removed]",
      "text/plain": [
       "<Figure size 432x288 with 1 Axes>"
      ]
     },
     "metadata": {
      "needs_background": "light"
     },
     "output_type": "display_data"
    }
   ],
   "source": [
    "plt.plot(xx, L_train,color = 'red',marker='o',markersize=4, label='L_train')\n",
    "plt.plot(xx, L_test, color = 'blue',marker='o',markersize=4, label= 'L_test')\n",
    "plt.xlabel('iter times')\n",
    "plt.ylabel('L value')\n",
    "plt.legend()\n",
    "plt.title(\"L\")\n",
    "plt.savefig('2_e_MSE3.png')"
   ]
  },
  {
   "cell_type": "code",
   "execution_count": 83,
   "id": "b957f00a-23a9-42e4-90e8-7b225f09e19d",
   "metadata": {},
   "outputs": [
    {
     "name": "stdout",
     "output_type": "stream",
     "text": [
      "0.0\n"
     ]
    }
   ],
   "source": [
    "#在测试集上统计结果\n",
    "test_pred = pred_Y(X_test,w)\n",
    "sum = 0\n",
    "for i in range(len(test_pred)):\n",
    "    tmp = 0\n",
    "    if(test_pred[i] > 0.5):\n",
    "        tmp = 1 \n",
    "    sum += abs(tmp - Y_test[i])\n",
    "print(sum)"
   ]
  },
  {
   "cell_type": "code",
   "execution_count": 25,
   "id": "7cab79b0-d468-465a-a529-d78d97207522",
   "metadata": {},
   "outputs": [
    {
     "name": "stdout",
     "output_type": "stream",
     "text": [
      "39.0\n"
     ]
    }
   ],
   "source": []
  },
  {
   "cell_type": "code",
   "execution_count": null,
   "id": "2f8686c7-2705-4473-a70f-f9f0c1892ec9",
   "metadata": {},
   "outputs": [],
   "source": []
  }
 ],
 "metadata": {
  "kernelspec": {
   "display_name": "Python 3 (ipykernel)",
   "language": "python",
   "name": "python3"
  },
  "language_info": {
   "codemirror_mode": {
    "name": "ipython",
    "version": 3
   },
   "file_extension": ".py",
   "mimetype": "text/x-python",
   "name": "python",
   "nbconvert_exporter": "python",
   "pygments_lexer": "ipython3",
   "version": "3.9.7"
  }
 },
 "nbformat": 4,
 "nbformat_minor": 5
}
