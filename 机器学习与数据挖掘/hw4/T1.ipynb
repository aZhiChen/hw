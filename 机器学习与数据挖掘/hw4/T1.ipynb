{
 "cells": [
  {
   "cell_type": "code",
   "execution_count": 1,
   "id": "9f7951cd-71c4-464b-8ca1-d06125aabd13",
   "metadata": {},
   "outputs": [],
   "source": [
    "from numpy import *\n"
   ]
  },
  {
   "cell_type": "code",
   "execution_count": 64,
   "id": "41517f5e-e731-4e82-983f-1308c86995a8",
   "metadata": {},
   "outputs": [],
   "source": [
    "def distance_euclidean(vector1, vector2):\n",
    "    return sqrt(power(vector1[0]-vector2[0],2)+power(vector1[1]-vector2[1],2))\n",
    "\n",
    "def cal_mean(cluster):\n",
    "    n = len(cluster)\n",
    "    vec = []\n",
    "    sum1 = 0\n",
    "    sum2 = 0\n",
    "    for i in range(n):\n",
    "        sum1 += cluster[i][0]\n",
    "        sum2 += cluster[i][1]\n",
    "    sum1 /= n\n",
    "    sum2 /= n\n",
    "    vec.append(sum1)\n",
    "    vec.append(sum2)\n",
    "    return vec\n",
    "\n",
    "def cal_center(clusters):\n",
    "    k = len(clusters)\n",
    "    centers = [] \n",
    "    for i in range(k):\n",
    "        centers.append(cal_mean(clusters[i]))\n",
    "    return centers\n",
    "\n",
    "def K_Means(k, centers, it_times, data):\n",
    "    for i in range(it_times):\n",
    "        clusters = []\n",
    "        for j in range(k):\n",
    "            clusters.append([])\n",
    "        #将每个点划分类\n",
    "        for j in range(len(data)):\n",
    "            dis_min = 100\n",
    "            tmp_k = 0\n",
    "            #计算点到每个中心的距离\n",
    "            for kk in range(k):\n",
    "                if( dis_min > distance_euclidean(centers[kk],data[j]) ):\n",
    "                    dis_min = distance_euclidean(centers[kk],data[j])\n",
    "                    tmp_k = kk \n",
    "            clusters[tmp_k].append(data[j])\n",
    "        #重新计算簇类中心\n",
    "        tmp_centers = cal_center(clusters)\n",
    "        isSame = 1\n",
    "        for j in range(k):\n",
    "            if( tmp_centers[j] != centers[j] ):\n",
    "                isSame = 0\n",
    "                centers = tmp_centers\n",
    "                break\n",
    "        if( isSame == 1 ):\n",
    "            print(\"%d interations are required for the clusters to converge\"%(i))\n",
    "            break\n",
    "    return centers"
   ]
  },
  {
   "cell_type": "code",
   "execution_count": 65,
   "id": "d09f3da6-1ecc-4853-9e04-8477412e8354",
   "metadata": {},
   "outputs": [
    {
     "name": "stdout",
     "output_type": "stream",
     "text": [
      "2 interations are required for the clusters to converge\n"
     ]
    }
   ],
   "source": [
    "data = [[5.9,3.2],[4.6,2.9],[6.2,2.8],[4.7,3.2],[5.5,4.2],[5.0,3.0],[4.9,3.1],[6.7,3.1],[5.1,3.8],[6.0,3.0]]\n",
    "centers = [[6.2,3.2],[6.6,3.7],[6.5,3.0]]\n",
    "k = 3\n",
    "centers = K_Means(k, centers, 1000, data)\n"
   ]
  },
  {
   "cell_type": "code",
   "execution_count": 66,
   "id": "40df1d06-b838-4b33-be52-53199eedd357",
   "metadata": {},
   "outputs": [
    {
     "name": "stdout",
     "output_type": "stream",
     "text": [
      "[[4.800000000000001, 3.05], [5.3, 4.0], [6.2, 3.025]]\n"
     ]
    }
   ],
   "source": [
    "print(centers)"
   ]
  },
  {
   "cell_type": "code",
   "execution_count": null,
   "id": "9dd0d740-8f74-41d5-b1e2-d42a6c4c4200",
   "metadata": {},
   "outputs": [],
   "source": []
  }
 ],
 "metadata": {
  "kernelspec": {
   "display_name": "Python 3 (ipykernel)",
   "language": "python",
   "name": "python3"
  },
  "language_info": {
   "codemirror_mode": {
    "name": "ipython",
    "version": 3
   },
   "file_extension": ".py",
   "mimetype": "text/x-python",
   "name": "python",
   "nbconvert_exporter": "python",
   "pygments_lexer": "ipython3",
   "version": "3.9.7"
  }
 },
 "nbformat": 4,
 "nbformat_minor": 5
}
